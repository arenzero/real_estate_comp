{
 "cells": [
  {
   "cell_type": "markdown",
   "metadata": {},
   "source": [
    "### descriptionのカラム\n",
    "- id:ID\n",
    "- 経度、緯度：⇒どう扱うのか…？\n",
    "- 所在地コード：trainの市区町村コードと同じ\n",
    "- 用途：[0,5,13,9]しかない\n",
    "- 連番：謎\n",
    "- 前年所在地コード：所在地コードと同様\n",
    "- 前年用途：用途と同じ\n",
    "- 前年連番：連番と同じ\n",
    "- 市区町村名：trainと表記が異なるため修正\n",
    "- 住居表示：住所\n",
    "- 地積：trainの面積と同じ\n",
    "- 利用の現況：n桁で表示（one-hot-vectorはできるがマージできるか…）\n",
    "- 利用状況表示：活用用途…？[車庫、共同住宅、映画館、など]\n",
    "- 建物構造：SRC12などの記載⇒trainにも同様の記載があった\n",
    "- 施設：これも3桁程度の表示。利用の現況と同じような形\n",
    "- 形状区分：trainとマージできるが、表示をそろえる必要がある\n",
    "- 間口（比率）：trainにあるかどうか…\n",
    "- 奥行（比率）：間口（比率）と同じ\n",
    "- 階層（地上）：何階建てか。trainにあるかどうか…\n",
    "- 階層（地下）：同上\n",
    "- 前面道路区分：trainにもある\n",
    "- 前面道路の方位区分：同上\n",
    "- 前面道路の幅員：同上\n",
    "- 前面道路の駅前区分：駅前広場かどうか⇒いるか…？\n",
    "- 前面道路の舗装状況：未舗装かどうか\n",
    "- 側道区分：trainに情報がない\n",
    "- 側道方位区分；trainに情報がない\n",
    "- 交通施設との近接区分：駅前広場にに接面しているか近接しているか\n",
    "- 周辺の土地の利用の現況：「一般住宅のほかなんちゃら」trainにそんな項目あったかな…\n",
    "- 駅名：trainに全く同じような項目がある\n",
    "- 駅距離：trainにも同じような項目があるけど、単位が異なる\n",
    "- 用途区分：trainの都市計画と似てるけど、表記が異なる\n",
    "- 防火区分：「準防、防火」のどちらか\n",
    "- 都市計画区分：trainの都市計画とは全く異なるので注意\n",
    "- 森林区分：地森計かどうか、⇒いるか？\n",
    "- 公園区分：国立公かどうか、同上\n",
    "- 建蔽率：trainの建ぺい率と同じ\n",
    "- 容積率：trainの容積率と同じ\n",
    "- 共通地点区分：TrueかFalseか\n",
    "- 選定年次ビット：n桁であらわされる何か"
   ]
  },
  {
   "cell_type": "markdown",
   "metadata": {},
   "source": [
    "## trainにとりあえずmergeするカラム\n",
    "- 所在地コード：mergeＯＫ\n",
    "- 前年所在地コード：mergeＯＫ\n",
    "- 形状区分：mergeＯＫ\n",
    "- 前面道路の方位区分：mergeＯＫ\n",
    "- 前面道路区分：mergeＯＫ\n",
    "- 駅名：trainに全く同じような項目がある⇒できる限り表現統一⇒meregＯＫ\n",
    "- 用途区分：表記を修正して⇒mergeＯＫ\n",
    "\n",
    "mergeの仕方が異なる\n",
    "- 用途：[0,5,13,9]しかない、trainの用途と被るものもある（地域カラム）\n",
    "- 前年用途：用途と同じ⇒同上\n",
    "- 建物構造：SRC12などの記載⇒trainを前処理してからmergeした方がいい\n",
    "\n",
    "保留\n",
    "- 住居表示：住所⇒何かできるかも（保留）\n",
    "- 利用の現況：trainの用途と同じようなものもある（林地や農地などはmergeできそうだけどめんどくさそう。保留）\n",
    "- 利用状況表示：活用用途…？[車庫、共同住宅、映画館、など]⇒少しだけmergeできるだろうけどめんどくさそう。\n",
    "\n",
    "floatのものたち\n",
    "- 前面道路の幅員：同上\n",
    "- 地積：trainの面積と同じ\n",
    "- 建蔽率：trainの建ぺい率と同じ\n",
    "- 容積率：trainの容積率と同じ\n",
    "- 駅距離：trainにも同じような項目があるけど、単位が異なる"
   ]
  },
  {
   "cell_type": "markdown",
   "metadata": {},
   "source": [
    "入れたいもの：ある地域に関して、1㎡あたりいくらかという価格"
   ]
  },
  {
   "cell_type": "code",
   "execution_count": 102,
   "metadata": {},
   "outputs": [],
   "source": [
    "import pandas as pd\n",
    "import matplotlib.pyplot as plt\n",
    "import seaborn as sns\n",
    "import numpy as np\n",
    "import os\n",
    "import pickle\n",
    "import joblib\n",
    "\n",
    "#preprocess\n",
    "from sklearn.preprocessing import LabelEncoder\n",
    "from sklearn.model_selection import train_test_split\n",
    "\n",
    "# modeling\n",
    "import lightgbm as lgb\n",
    "import itertools #grid search用\n",
    "from sklearn.model_selection import KFold\n",
    "\n",
    "#metrics\n",
    "from sklearn.metrics import mean_squared_error\n",
    "\n",
    "#progress bar\n",
    "from tqdm.notebook import tqdm\n",
    "\n",
    "import sys\n",
    "sys.path.append('../src')\n",
    "\n",
    "#plot setting\n",
    "import myplot\n",
    "myplot.setting_myplot()"
   ]
  },
  {
   "cell_type": "code",
   "execution_count": 103,
   "metadata": {},
   "outputs": [],
   "source": [
    "np.set_printoptions(suppress=True)\n",
    "pd.set_option('display.max_columns', 100)\n",
    "pd.set_option('display.max_rows',100)\n",
    "pd.set_option(\"display.max_seq_item\",150)\n",
    "pd.set_option(\"display.width\",None)"
   ]
  },
  {
   "cell_type": "code",
   "execution_count": 104,
   "metadata": {},
   "outputs": [],
   "source": [
    "with open('../features/base.pkl', 'rb') as f:\n",
    "    full = pickle.load(f)\n",
    "    \n",
    "description = pd.read_csv(\"../raw_data/published_land_price.csv\")\n",
    "\n",
    "description['用途'] = description['用途'].replace({0:'住宅地',5:'商業地',9:'工業地',13:'市街化調整区域内の現況林地'})\n",
    "description['利用の現況'] = description['利用の現況'].astype(str).apply(lambda x : x.zfill(17))\n",
    "\n",
    "description['建物構造'] = description['建物構造'].replace({'(.*)F(.*)':r'\\1'},regex=True)\n",
    "description['建物構造'] = description['建物構造'].replace({'[0-9]':''},regex=True)\n",
    "description['建物構造'] = description['建物構造'].replace({'W':'木造','S':'鉄骨造','B':'ブロック造','LS':'軽量鉄骨造','RC':'ＲＣ','SRC':'ＳＲＣ'})\n",
    "\n",
    "del description['行政'],description['年次']\n",
    "\n",
    "description['１平米単価Ｈ３１'] = description['Ｈ３１価格']/description['地積']"
   ]
  },
  {
   "cell_type": "code",
   "execution_count": 105,
   "metadata": {},
   "outputs": [],
   "source": [
    "#0は欠損値にしないと平均が薄まってしまう\n",
    "description.iloc[:,41:78] = description.iloc[:,41:78].replace({0:np.NaN})"
   ]
  },
  {
   "cell_type": "code",
   "execution_count": 106,
   "metadata": {},
   "outputs": [],
   "source": [
    "def merge_data(df_,train_col_name,description_col_name):\n",
    "    \n",
    "    df = df_.copy()\n",
    "\n",
    "    value_cols = list(description.columns[description.columns.str.contains('Ｈ３１価格')].values)\n",
    "    unit_value_cols = list(description.columns[description.columns.str.contains('１平米単価')].values)\n",
    "\n",
    "    x = description[[description_col_name]+value_cols+unit_value_cols]\n",
    "\n",
    "    x_mean = x.groupby(by=description_col_name).mean()\n",
    "    x_std = x.groupby(by=description_col_name).std()\n",
    "    x_count = x.groupby(by=description_col_name).count()\n",
    "    x_median = x.groupby(by=description_col_name).median()\n",
    "\n",
    "    x_mean.columns = [description_col_name+'_mean_'] + x_mean.columns.values\n",
    "    x_std.columns = [description_col_name+'_std_'] + x_std.columns.values\n",
    "    x_count.columns = [description_col_name+'_count_'] + x_count.columns.values\n",
    "    x_median.columns = [description_col_name+'_median_'] + x_median.columns.values\n",
    "\n",
    "    df = pd.merge(df,x_mean,how='left',left_on=train_col_name,right_on=description_col_name)\n",
    "    df = pd.merge(df,x_std,how='left',left_on=train_col_name,right_on=description_col_name)\n",
    "    df = pd.merge(df,x_count,how='left',left_on=train_col_name,right_on=description_col_name)\n",
    "    df = pd.merge(df,x_median,how='left',left_on=train_col_name,right_on=description_col_name)\n",
    "    \n",
    "    df = df[list(x_mean.columns)+list(x_std.columns)+list(x_count)+list(x_median)]\n",
    "    print(df.columns,df.shape)\n",
    "    with open('../features/'+description_col_name+'.pkl', 'wb') as f:\n",
    "        pickle.dump(df , f)"
   ]
  },
  {
   "cell_type": "code",
   "execution_count": 107,
   "metadata": {},
   "outputs": [
    {
     "name": "stdout",
     "output_type": "stream",
     "text": [
      "Index(['所在地コード_mean_Ｈ３１価格', '所在地コード_mean_１平米単価Ｈ３１', '所在地コード_std_Ｈ３１価格',\n",
      "       '所在地コード_std_１平米単価Ｈ３１', '所在地コード_count_Ｈ３１価格', '所在地コード_count_１平米単価Ｈ３１',\n",
      "       '所在地コード_median_Ｈ３１価格', '所在地コード_median_１平米単価Ｈ３１'],\n",
      "      dtype='object') (391188, 8)\n"
     ]
    }
   ],
   "source": [
    "merge_data(full,'市区町村コード','所在地コード')"
   ]
  },
  {
   "cell_type": "code",
   "execution_count": 108,
   "metadata": {},
   "outputs": [],
   "source": [
    "full['最寄駅：名称_路線名なし'] = full['最寄駅：名称'].replace({'(.+)\\((.+)\\)':r'\\1'},regex=True)"
   ]
  },
  {
   "cell_type": "code",
   "execution_count": 109,
   "metadata": {},
   "outputs": [
    {
     "name": "stdout",
     "output_type": "stream",
     "text": [
      "Index(['駅名_mean_Ｈ３１価格', '駅名_mean_１平米単価Ｈ３１', '駅名_std_Ｈ３１価格', '駅名_std_１平米単価Ｈ３１',\n",
      "       '駅名_count_Ｈ３１価格', '駅名_count_１平米単価Ｈ３１', '駅名_median_Ｈ３１価格',\n",
      "       '駅名_median_１平米単価Ｈ３１'],\n",
      "      dtype='object') (391188, 8)\n"
     ]
    }
   ],
   "source": [
    "merge_data(full,'最寄駅：名称_路線名なし','駅名')"
   ]
  },
  {
   "cell_type": "code",
   "execution_count": 110,
   "metadata": {},
   "outputs": [
    {
     "name": "stdout",
     "output_type": "stream",
     "text": [
      "Index(['形状区分_mean_Ｈ３１価格', '形状区分_mean_１平米単価Ｈ３１', '形状区分_std_Ｈ３１価格',\n",
      "       '形状区分_std_１平米単価Ｈ３１', '形状区分_count_Ｈ３１価格', '形状区分_count_１平米単価Ｈ３１',\n",
      "       '形状区分_median_Ｈ３１価格', '形状区分_median_１平米単価Ｈ３１'],\n",
      "      dtype='object') (391188, 8)\n"
     ]
    }
   ],
   "source": [
    "merge_data(full,'土地の形状','形状区分')"
   ]
  },
  {
   "cell_type": "markdown",
   "metadata": {},
   "source": [
    "以降は効かない感じのやつ"
   ]
  },
  {
   "cell_type": "code",
   "execution_count": 111,
   "metadata": {},
   "outputs": [
    {
     "name": "stdout",
     "output_type": "stream",
     "text": [
      "Index(['前面道路の方位区分_mean_Ｈ３１価格', '前面道路の方位区分_mean_１平米単価Ｈ３１',\n",
      "       '前面道路の方位区分_std_Ｈ３１価格', '前面道路の方位区分_std_１平米単価Ｈ３１',\n",
      "       '前面道路の方位区分_count_Ｈ３１価格', '前面道路の方位区分_count_１平米単価Ｈ３１',\n",
      "       '前面道路の方位区分_median_Ｈ３１価格', '前面道路の方位区分_median_１平米単価Ｈ３１'],\n",
      "      dtype='object') (391188, 8)\n"
     ]
    }
   ],
   "source": [
    "merge_data(full,'前面道路：方位','前面道路の方位区分')"
   ]
  },
  {
   "cell_type": "code",
   "execution_count": 112,
   "metadata": {},
   "outputs": [
    {
     "name": "stdout",
     "output_type": "stream",
     "text": [
      "Index(['前面道路区分_mean_Ｈ３１価格', '前面道路区分_mean_１平米単価Ｈ３１', '前面道路区分_std_Ｈ３１価格',\n",
      "       '前面道路区分_std_１平米単価Ｈ３１', '前面道路区分_count_Ｈ３１価格', '前面道路区分_count_１平米単価Ｈ３１',\n",
      "       '前面道路区分_median_Ｈ３１価格', '前面道路区分_median_１平米単価Ｈ３１'],\n",
      "      dtype='object') (391188, 8)\n"
     ]
    }
   ],
   "source": [
    "merge_data(full,'前面道路：種類','前面道路区分')"
   ]
  },
  {
   "cell_type": "code",
   "execution_count": 113,
   "metadata": {},
   "outputs": [],
   "source": [
    "replace_youto = {'1低専':'第１種低層住居専用地域','2低専':'第２種低層住居専用地域','1中専':'第１種中高層住居専用地域',\n",
    "                 '2中専':'第２種中高層住居専用地域','1住居':'第１種住居地域','2住居':'第２種住居地域','準住居':'準住居地域',\n",
    "                 '近商':'近隣商業地域','商業':'商業地域','準工':'準工業地域','工業':'工業地域','工専':'工業専用地域','_':np.NaN}\n",
    "description['用途区分'] = description['用途区分'].replace(replace_youto)"
   ]
  },
  {
   "cell_type": "code",
   "execution_count": 114,
   "metadata": {
    "scrolled": true
   },
   "outputs": [
    {
     "name": "stdout",
     "output_type": "stream",
     "text": [
      "Index(['用途区分_mean_Ｈ３１価格', '用途区分_mean_１平米単価Ｈ３１', '用途区分_std_Ｈ３１価格',\n",
      "       '用途区分_std_１平米単価Ｈ３１', '用途区分_count_Ｈ３１価格', '用途区分_count_１平米単価Ｈ３１',\n",
      "       '用途区分_median_Ｈ３１価格', '用途区分_median_１平米単価Ｈ３１'],\n",
      "      dtype='object') (391188, 8)\n"
     ]
    }
   ],
   "source": [
    "merge_data(full,'都市計画','用途区分')"
   ]
  },
  {
   "cell_type": "markdown",
   "metadata": {},
   "source": [
    "### 以降はmerge_data2"
   ]
  },
  {
   "cell_type": "code",
   "execution_count": 115,
   "metadata": {},
   "outputs": [],
   "source": [
    "import copy\n",
    "import re\n",
    "import numpy as np\n",
    "import pandas as pd\n",
    "from tqdm.notebook import tqdm_notebook as tqdm\n",
    "\n",
    "def wareki_to_seireki_2(wareki):\n",
    "    \"\"\"\n",
    "    西暦を和暦にする（昭和、平成のみ対応）\n",
    "    \n",
    "    Parameter:\n",
    "    ----\n",
    "    wareki_list: 和暦のSeries\n",
    "    \n",
    "    Return:\n",
    "    -----\n",
    "    seireki_list: 西暦のSeries\n",
    "    \n",
    "    \"\"\"\n",
    "    wareki_list = list(wareki.values)\n",
    "    \n",
    "    for i in tqdm(range(len(wareki_list))):\n",
    "        try:\n",
    "            if re.match('Ｓ(.*)価格',wareki_list[i]):\n",
    "                wareki_list[i] = 1925 + int(re.sub('Ｓ(.*)価格',r'\\1',wareki_list[i]))\n",
    "\n",
    "            elif re.match('Ｈ(.*)価格',wareki_list[i]):\n",
    "                wareki_list[i] = 1988 + int(re.sub('Ｈ(.*)価格',r'\\1',wareki_list[i]))\n",
    "        except:\n",
    "            continue\n",
    "            \n",
    "    return pd.Series(wareki_list)"
   ]
  },
  {
   "cell_type": "code",
   "execution_count": 116,
   "metadata": {},
   "outputs": [
    {
     "data": {
      "application/vnd.jupyter.widget-view+json": {
       "model_id": "c3730feef6f74552a035ba130b3d46bd",
       "version_major": 2,
       "version_minor": 0
      },
      "text/plain": [
       "HBox(children=(FloatProgress(value=0.0, max=115.0), HTML(value='')))"
      ]
     },
     "metadata": {},
     "output_type": "display_data"
    },
    {
     "name": "stdout",
     "output_type": "stream",
     "text": [
      "\n"
     ]
    }
   ],
   "source": [
    "#列名をHやSから西暦に\n",
    "col = wareki_to_seireki_2(description.columns)\n",
    "description.columns = list(col)"
   ]
  },
  {
   "cell_type": "code",
   "execution_count": 124,
   "metadata": {},
   "outputs": [],
   "source": [
    "def merge_data_2(df_,train_col_name,description_col_name):\n",
    "    \n",
    "    df = df_.copy()\n",
    "\n",
    "    value_cols = list(description.iloc[:,41:78].columns)\n",
    "    x = description[[description_col_name]+value_cols].groupby(by=description_col_name)\n",
    "    \n",
    "    x_mean = x.mean()\n",
    "    for year in tqdm(df['取引時点_年'].unique()):\n",
    "        for id_ in x_mean.index:\n",
    "            df.loc[(df[train_col_name]==id_)&(df['取引時点_年']==year),description_col_name+'_mean_取引年'] = x_mean.loc[id_,year]\n",
    "            \n",
    "    x_std = x.std()\n",
    "    for year in tqdm(df['取引時点_年'].unique()):\n",
    "        for id_ in x_std.index:\n",
    "            df.loc[(df[train_col_name]==id_)&(df['取引時点_年']==year),description_col_name+'_std_取引年'] = x_std.loc[id_,year]\n",
    "    \n",
    "    x_count = x.count()\n",
    "    for year in tqdm(df['取引時点_年'].unique()):\n",
    "        for id_ in x_count.index:\n",
    "            df.loc[(df[train_col_name]==id_)&(df['取引時点_年']==year),description_col_name+'_count_取引年'] = x_count.loc[id_,year]\n",
    "    \n",
    "    x_median = x.median()\n",
    "    for year in tqdm(df['取引時点_年'].unique()):\n",
    "        for id_ in x_median.index:\n",
    "            df.loc[(df[train_col_name]==id_)&(df['取引時点_年']==year),description_col_name+'_median_取引年'] = x_median.loc[id_,year]\n",
    "            \n",
    "    xx = df[[description_col_name+'_mean_取引年',description_col_name+'_std_取引年',\n",
    "             description_col_name+'_count_取引年',description_col_name+'_median_取引年']]\n",
    "    \n",
    "    print(xx.columns,xx.shape)\n",
    "    with open('../features/'+description_col_name+'_取引年.pkl', 'wb') as f:\n",
    "        pickle.dump(xx , f)"
   ]
  },
  {
   "cell_type": "code",
   "execution_count": 125,
   "metadata": {},
   "outputs": [
    {
     "data": {
      "application/vnd.jupyter.widget-view+json": {
       "model_id": "1073cc76dc524a3da13d9e4e37b42847",
       "version_major": 2,
       "version_minor": 0
      },
      "text/plain": [
       "HBox(children=(FloatProgress(value=0.0, max=15.0), HTML(value='')))"
      ]
     },
     "metadata": {},
     "output_type": "display_data"
    },
    {
     "name": "stdout",
     "output_type": "stream",
     "text": [
      "\n"
     ]
    },
    {
     "data": {
      "application/vnd.jupyter.widget-view+json": {
       "model_id": "965022ff522d419db096efd9d9b11918",
       "version_major": 2,
       "version_minor": 0
      },
      "text/plain": [
       "HBox(children=(FloatProgress(value=0.0, max=15.0), HTML(value='')))"
      ]
     },
     "metadata": {},
     "output_type": "display_data"
    },
    {
     "name": "stdout",
     "output_type": "stream",
     "text": [
      "\n"
     ]
    },
    {
     "data": {
      "application/vnd.jupyter.widget-view+json": {
       "model_id": "0b5a242fb6cc48de8c0799dbdf5bbcd8",
       "version_major": 2,
       "version_minor": 0
      },
      "text/plain": [
       "HBox(children=(FloatProgress(value=0.0, max=15.0), HTML(value='')))"
      ]
     },
     "metadata": {},
     "output_type": "display_data"
    },
    {
     "name": "stdout",
     "output_type": "stream",
     "text": [
      "\n"
     ]
    },
    {
     "data": {
      "application/vnd.jupyter.widget-view+json": {
       "model_id": "d4bfab1d849f4c3a8857943b10c918c2",
       "version_major": 2,
       "version_minor": 0
      },
      "text/plain": [
       "HBox(children=(FloatProgress(value=0.0, max=15.0), HTML(value='')))"
      ]
     },
     "metadata": {},
     "output_type": "display_data"
    },
    {
     "name": "stdout",
     "output_type": "stream",
     "text": [
      "\n",
      "Index(['所在地コード_mean_取引年', '所在地コード_std_取引年', '所在地コード_count_取引年',\n",
      "       '所在地コード_median_取引年'],\n",
      "      dtype='object') (391188, 4)\n"
     ]
    }
   ],
   "source": [
    "merge_data_2(full,'市区町村コード','所在地コード')"
   ]
  },
  {
   "cell_type": "code",
   "execution_count": 126,
   "metadata": {},
   "outputs": [
    {
     "data": {
      "application/vnd.jupyter.widget-view+json": {
       "model_id": "d3895f11b1f4446f95acd1b5a4c9c469",
       "version_major": 2,
       "version_minor": 0
      },
      "text/plain": [
       "HBox(children=(FloatProgress(value=0.0, max=15.0), HTML(value='')))"
      ]
     },
     "metadata": {},
     "output_type": "display_data"
    },
    {
     "name": "stdout",
     "output_type": "stream",
     "text": [
      "\n"
     ]
    },
    {
     "data": {
      "application/vnd.jupyter.widget-view+json": {
       "model_id": "edc3d23109b94f888934f8d54b32cc2b",
       "version_major": 2,
       "version_minor": 0
      },
      "text/plain": [
       "HBox(children=(FloatProgress(value=0.0, max=15.0), HTML(value='')))"
      ]
     },
     "metadata": {},
     "output_type": "display_data"
    },
    {
     "name": "stdout",
     "output_type": "stream",
     "text": [
      "\n"
     ]
    },
    {
     "data": {
      "application/vnd.jupyter.widget-view+json": {
       "model_id": "fcf1f97c73a34c7b8013f3da0c5ec64d",
       "version_major": 2,
       "version_minor": 0
      },
      "text/plain": [
       "HBox(children=(FloatProgress(value=0.0, max=15.0), HTML(value='')))"
      ]
     },
     "metadata": {},
     "output_type": "display_data"
    },
    {
     "name": "stdout",
     "output_type": "stream",
     "text": [
      "\n"
     ]
    },
    {
     "data": {
      "application/vnd.jupyter.widget-view+json": {
       "model_id": "904c9769203946539e0b5423009f283a",
       "version_major": 2,
       "version_minor": 0
      },
      "text/plain": [
       "HBox(children=(FloatProgress(value=0.0, max=15.0), HTML(value='')))"
      ]
     },
     "metadata": {},
     "output_type": "display_data"
    },
    {
     "name": "stdout",
     "output_type": "stream",
     "text": [
      "\n",
      "Index(['駅名_mean_取引年', '駅名_std_取引年', '駅名_count_取引年', '駅名_median_取引年'], dtype='object') (391188, 4)\n"
     ]
    }
   ],
   "source": [
    "merge_data_2(full,'最寄駅：名称_路線名なし','駅名')"
   ]
  },
  {
   "cell_type": "code",
   "execution_count": 127,
   "metadata": {},
   "outputs": [
    {
     "data": {
      "application/vnd.jupyter.widget-view+json": {
       "model_id": "51f83b20ee3c4bfc8d1a94e96c7e7f3b",
       "version_major": 2,
       "version_minor": 0
      },
      "text/plain": [
       "HBox(children=(FloatProgress(value=0.0, max=15.0), HTML(value='')))"
      ]
     },
     "metadata": {},
     "output_type": "display_data"
    },
    {
     "name": "stdout",
     "output_type": "stream",
     "text": [
      "\n"
     ]
    },
    {
     "data": {
      "application/vnd.jupyter.widget-view+json": {
       "model_id": "19f29383539d43a0a0edc213ab195b77",
       "version_major": 2,
       "version_minor": 0
      },
      "text/plain": [
       "HBox(children=(FloatProgress(value=0.0, max=15.0), HTML(value='')))"
      ]
     },
     "metadata": {},
     "output_type": "display_data"
    },
    {
     "name": "stdout",
     "output_type": "stream",
     "text": [
      "\n"
     ]
    },
    {
     "data": {
      "application/vnd.jupyter.widget-view+json": {
       "model_id": "c9a38b0d11024263807b19af9726e790",
       "version_major": 2,
       "version_minor": 0
      },
      "text/plain": [
       "HBox(children=(FloatProgress(value=0.0, max=15.0), HTML(value='')))"
      ]
     },
     "metadata": {},
     "output_type": "display_data"
    },
    {
     "name": "stdout",
     "output_type": "stream",
     "text": [
      "\n"
     ]
    },
    {
     "data": {
      "application/vnd.jupyter.widget-view+json": {
       "model_id": "1cd6aa73985f45ac889e150085ee1313",
       "version_major": 2,
       "version_minor": 0
      },
      "text/plain": [
       "HBox(children=(FloatProgress(value=0.0, max=15.0), HTML(value='')))"
      ]
     },
     "metadata": {},
     "output_type": "display_data"
    },
    {
     "name": "stdout",
     "output_type": "stream",
     "text": [
      "\n",
      "Index(['形状区分_mean_取引年', '形状区分_std_取引年', '形状区分_count_取引年', '形状区分_median_取引年'], dtype='object') (391188, 4)\n"
     ]
    }
   ],
   "source": [
    "merge_data_2(full,'土地の形状','形状区分')"
   ]
  },
  {
   "cell_type": "code",
   "execution_count": 128,
   "metadata": {},
   "outputs": [
    {
     "data": {
      "application/vnd.jupyter.widget-view+json": {
       "model_id": "e00f9f44aeb746dda5217542e9fd9c00",
       "version_major": 2,
       "version_minor": 0
      },
      "text/plain": [
       "HBox(children=(FloatProgress(value=0.0, max=15.0), HTML(value='')))"
      ]
     },
     "metadata": {},
     "output_type": "display_data"
    },
    {
     "name": "stdout",
     "output_type": "stream",
     "text": [
      "\n"
     ]
    },
    {
     "data": {
      "application/vnd.jupyter.widget-view+json": {
       "model_id": "0b7bfe8c22684bc29ca6d1a1a0f586eb",
       "version_major": 2,
       "version_minor": 0
      },
      "text/plain": [
       "HBox(children=(FloatProgress(value=0.0, max=15.0), HTML(value='')))"
      ]
     },
     "metadata": {},
     "output_type": "display_data"
    },
    {
     "name": "stdout",
     "output_type": "stream",
     "text": [
      "\n"
     ]
    },
    {
     "data": {
      "application/vnd.jupyter.widget-view+json": {
       "model_id": "af85ca4da39e4a9eb11b9b83be183ac7",
       "version_major": 2,
       "version_minor": 0
      },
      "text/plain": [
       "HBox(children=(FloatProgress(value=0.0, max=15.0), HTML(value='')))"
      ]
     },
     "metadata": {},
     "output_type": "display_data"
    },
    {
     "name": "stdout",
     "output_type": "stream",
     "text": [
      "\n"
     ]
    },
    {
     "data": {
      "application/vnd.jupyter.widget-view+json": {
       "model_id": "9d4ae6c464034c24a17d9334c8a72e02",
       "version_major": 2,
       "version_minor": 0
      },
      "text/plain": [
       "HBox(children=(FloatProgress(value=0.0, max=15.0), HTML(value='')))"
      ]
     },
     "metadata": {},
     "output_type": "display_data"
    },
    {
     "name": "stdout",
     "output_type": "stream",
     "text": [
      "\n",
      "Index(['前面道路の方位区分_mean_取引年', '前面道路の方位区分_std_取引年', '前面道路の方位区分_count_取引年',\n",
      "       '前面道路の方位区分_median_取引年'],\n",
      "      dtype='object') (391188, 4)\n"
     ]
    }
   ],
   "source": [
    "merge_data_2(full,'前面道路：方位','前面道路の方位区分')"
   ]
  },
  {
   "cell_type": "code",
   "execution_count": 129,
   "metadata": {},
   "outputs": [
    {
     "data": {
      "application/vnd.jupyter.widget-view+json": {
       "model_id": "c0455b9938f4420aa726d359569d66eb",
       "version_major": 2,
       "version_minor": 0
      },
      "text/plain": [
       "HBox(children=(FloatProgress(value=0.0, max=15.0), HTML(value='')))"
      ]
     },
     "metadata": {},
     "output_type": "display_data"
    },
    {
     "name": "stdout",
     "output_type": "stream",
     "text": [
      "\n"
     ]
    },
    {
     "data": {
      "application/vnd.jupyter.widget-view+json": {
       "model_id": "47b0bf80309248189714362f59982b27",
       "version_major": 2,
       "version_minor": 0
      },
      "text/plain": [
       "HBox(children=(FloatProgress(value=0.0, max=15.0), HTML(value='')))"
      ]
     },
     "metadata": {},
     "output_type": "display_data"
    },
    {
     "name": "stdout",
     "output_type": "stream",
     "text": [
      "\n"
     ]
    },
    {
     "data": {
      "application/vnd.jupyter.widget-view+json": {
       "model_id": "b636b516add147ff9e225f0ad484e244",
       "version_major": 2,
       "version_minor": 0
      },
      "text/plain": [
       "HBox(children=(FloatProgress(value=0.0, max=15.0), HTML(value='')))"
      ]
     },
     "metadata": {},
     "output_type": "display_data"
    },
    {
     "name": "stdout",
     "output_type": "stream",
     "text": [
      "\n"
     ]
    },
    {
     "data": {
      "application/vnd.jupyter.widget-view+json": {
       "model_id": "b6802c5a6e124385aff60a15a2da2c1b",
       "version_major": 2,
       "version_minor": 0
      },
      "text/plain": [
       "HBox(children=(FloatProgress(value=0.0, max=15.0), HTML(value='')))"
      ]
     },
     "metadata": {},
     "output_type": "display_data"
    },
    {
     "name": "stdout",
     "output_type": "stream",
     "text": [
      "\n",
      "Index(['前面道路区分_mean_取引年', '前面道路区分_std_取引年', '前面道路区分_count_取引年',\n",
      "       '前面道路区分_median_取引年'],\n",
      "      dtype='object') (391188, 4)\n"
     ]
    }
   ],
   "source": [
    "merge_data_2(full,'前面道路：種類','前面道路区分')"
   ]
  },
  {
   "cell_type": "code",
   "execution_count": 130,
   "metadata": {},
   "outputs": [
    {
     "data": {
      "application/vnd.jupyter.widget-view+json": {
       "model_id": "43a89ef0043045159c1b31f3d6d279f5",
       "version_major": 2,
       "version_minor": 0
      },
      "text/plain": [
       "HBox(children=(FloatProgress(value=0.0, max=15.0), HTML(value='')))"
      ]
     },
     "metadata": {},
     "output_type": "display_data"
    },
    {
     "name": "stdout",
     "output_type": "stream",
     "text": [
      "\n"
     ]
    },
    {
     "data": {
      "application/vnd.jupyter.widget-view+json": {
       "model_id": "c935f0bfafd042ec80a84f0ae1ff7d10",
       "version_major": 2,
       "version_minor": 0
      },
      "text/plain": [
       "HBox(children=(FloatProgress(value=0.0, max=15.0), HTML(value='')))"
      ]
     },
     "metadata": {},
     "output_type": "display_data"
    },
    {
     "name": "stdout",
     "output_type": "stream",
     "text": [
      "\n"
     ]
    },
    {
     "data": {
      "application/vnd.jupyter.widget-view+json": {
       "model_id": "a8f04108fb7d43bbb65476e67c0e040e",
       "version_major": 2,
       "version_minor": 0
      },
      "text/plain": [
       "HBox(children=(FloatProgress(value=0.0, max=15.0), HTML(value='')))"
      ]
     },
     "metadata": {},
     "output_type": "display_data"
    },
    {
     "name": "stdout",
     "output_type": "stream",
     "text": [
      "\n"
     ]
    },
    {
     "data": {
      "application/vnd.jupyter.widget-view+json": {
       "model_id": "29c0f49cc2dd4239a0bbb33b62d561ab",
       "version_major": 2,
       "version_minor": 0
      },
      "text/plain": [
       "HBox(children=(FloatProgress(value=0.0, max=15.0), HTML(value='')))"
      ]
     },
     "metadata": {},
     "output_type": "display_data"
    },
    {
     "name": "stdout",
     "output_type": "stream",
     "text": [
      "\n",
      "Index(['用途区分_mean_取引年', '用途区分_std_取引年', '用途区分_count_取引年', '用途区分_median_取引年'], dtype='object') (391188, 4)\n"
     ]
    }
   ],
   "source": [
    "merge_data_2(full,'都市計画','用途区分')"
   ]
  }
 ],
 "metadata": {
  "kernelspec": {
   "display_name": "Python 3",
   "language": "python",
   "name": "python3"
  },
  "language_info": {
   "codemirror_mode": {
    "name": "ipython",
    "version": 3
   },
   "file_extension": ".py",
   "mimetype": "text/x-python",
   "name": "python",
   "nbconvert_exporter": "python",
   "pygments_lexer": "ipython3",
   "version": "3.7.6"
  }
 },
 "nbformat": 4,
 "nbformat_minor": 2
}
