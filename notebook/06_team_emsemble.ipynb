{
 "cells": [
  {
   "cell_type": "code",
   "execution_count": 1,
   "metadata": {},
   "outputs": [],
   "source": [
    "import pandas as pd\n",
    "import os\n",
    "import numpy as np"
   ]
  },
  {
   "cell_type": "code",
   "execution_count": 7,
   "metadata": {},
   "outputs": [],
   "source": [
    "orejin_sub = ['0.26089_039_submission.csv']\n",
    "my_sub = ['best_sub.csv']"
   ]
  },
  {
   "cell_type": "code",
   "execution_count": 8,
   "metadata": {},
   "outputs": [],
   "source": [
    "subs = []\n",
    "for csv in orejin_sub:\n",
    "    subs.append(pd.read_csv('../submission_team/orejin_sub/'+csv))\n",
    "\n",
    "for csv in my_sub:\n",
    "    subs.append(pd.read_csv('../submissions/'+csv))"
   ]
  },
  {
   "cell_type": "code",
   "execution_count": 9,
   "metadata": {},
   "outputs": [],
   "source": [
    "pred = []\n",
    "for sub in subs:\n",
    "    pred.append(sub['y'].values)"
   ]
  },
  {
   "cell_type": "code",
   "execution_count": 10,
   "metadata": {},
   "outputs": [],
   "source": [
    "sub['y'] = np.array(pred).mean(axis=0)"
   ]
  },
  {
   "cell_type": "code",
   "execution_count": 11,
   "metadata": {},
   "outputs": [
    {
     "data": {
      "text/html": [
       "<div>\n",
       "<style scoped>\n",
       "    .dataframe tbody tr th:only-of-type {\n",
       "        vertical-align: middle;\n",
       "    }\n",
       "\n",
       "    .dataframe tbody tr th {\n",
       "        vertical-align: top;\n",
       "    }\n",
       "\n",
       "    .dataframe thead th {\n",
       "        text-align: right;\n",
       "    }\n",
       "</style>\n",
       "<table border=\"1\" class=\"dataframe\">\n",
       "  <thead>\n",
       "    <tr style=\"text-align: right;\">\n",
       "      <th></th>\n",
       "      <th>id</th>\n",
       "      <th>y</th>\n",
       "    </tr>\n",
       "  </thead>\n",
       "  <tbody>\n",
       "    <tr>\n",
       "      <th>0</th>\n",
       "      <td>1</td>\n",
       "      <td>29.374910</td>\n",
       "    </tr>\n",
       "    <tr>\n",
       "      <th>1</th>\n",
       "      <td>2</td>\n",
       "      <td>15.469900</td>\n",
       "    </tr>\n",
       "    <tr>\n",
       "      <th>2</th>\n",
       "      <td>3</td>\n",
       "      <td>240.966465</td>\n",
       "    </tr>\n",
       "    <tr>\n",
       "      <th>3</th>\n",
       "      <td>4</td>\n",
       "      <td>23.385614</td>\n",
       "    </tr>\n",
       "    <tr>\n",
       "      <th>4</th>\n",
       "      <td>5</td>\n",
       "      <td>71.455557</td>\n",
       "    </tr>\n",
       "    <tr>\n",
       "      <th>...</th>\n",
       "      <td>...</td>\n",
       "      <td>...</td>\n",
       "    </tr>\n",
       "    <tr>\n",
       "      <th>34839</th>\n",
       "      <td>34840</td>\n",
       "      <td>6.832805</td>\n",
       "    </tr>\n",
       "    <tr>\n",
       "      <th>34840</th>\n",
       "      <td>34841</td>\n",
       "      <td>2.478895</td>\n",
       "    </tr>\n",
       "    <tr>\n",
       "      <th>34841</th>\n",
       "      <td>34842</td>\n",
       "      <td>3.253168</td>\n",
       "    </tr>\n",
       "    <tr>\n",
       "      <th>34842</th>\n",
       "      <td>34843</td>\n",
       "      <td>10.835507</td>\n",
       "    </tr>\n",
       "    <tr>\n",
       "      <th>34843</th>\n",
       "      <td>34844</td>\n",
       "      <td>6.719660</td>\n",
       "    </tr>\n",
       "  </tbody>\n",
       "</table>\n",
       "<p>34844 rows × 2 columns</p>\n",
       "</div>"
      ],
      "text/plain": [
       "          id           y\n",
       "0          1   29.374910\n",
       "1          2   15.469900\n",
       "2          3  240.966465\n",
       "3          4   23.385614\n",
       "4          5   71.455557\n",
       "...      ...         ...\n",
       "34839  34840    6.832805\n",
       "34840  34841    2.478895\n",
       "34841  34842    3.253168\n",
       "34842  34843   10.835507\n",
       "34843  34844    6.719660\n",
       "\n",
       "[34844 rows x 2 columns]"
      ]
     },
     "execution_count": 11,
     "metadata": {},
     "output_type": "execute_result"
    }
   ],
   "source": [
    "sub"
   ]
  },
  {
   "cell_type": "code",
   "execution_count": 12,
   "metadata": {},
   "outputs": [],
   "source": [
    "sub.to_csv('../submission_team/team_sub.csv',index=False)"
   ]
  }
 ],
 "metadata": {
  "kernelspec": {
   "display_name": "Python 3",
   "language": "python",
   "name": "python3"
  },
  "language_info": {
   "codemirror_mode": {
    "name": "ipython",
    "version": 3
   },
   "file_extension": ".py",
   "mimetype": "text/x-python",
   "name": "python",
   "nbconvert_exporter": "python",
   "pygments_lexer": "ipython3",
   "version": "3.7.6"
  }
 },
 "nbformat": 4,
 "nbformat_minor": 4
}
