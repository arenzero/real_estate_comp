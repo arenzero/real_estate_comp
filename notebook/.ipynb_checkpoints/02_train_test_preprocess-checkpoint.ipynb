{
 "cells": [
  {
   "cell_type": "code",
   "execution_count": 21,
   "metadata": {},
   "outputs": [],
   "source": [
    "import pandas as pd\n",
    "import matplotlib.pyplot as plt\n",
    "import seaborn as sns\n",
    "import numpy as np\n",
    "import os\n",
    "import pickle\n",
    "import joblib\n",
    "\n",
    "#preprocess\n",
    "from sklearn.model_selection import train_test_split\n",
    "\n",
    "# modeling\n",
    "import lightgbm as lgb\n",
    "import itertools #grid search用\n",
    "from sklearn.model_selection import KFold\n",
    "\n",
    "#metrics\n",
    "from sklearn.metrics import mean_squared_error\n",
    "\n",
    "#progress bar\n",
    "from tqdm.notebook import tqdm\n",
    "\n",
    "#my util\n",
    "import sys\n",
    "sys.path.append('../src')\n",
    "\n",
    "#plot setting\n",
    "import myplot\n",
    "myplot.setting_myplot()\n",
    "\n",
    "from util import simple_preprocess"
   ]
  },
  {
   "cell_type": "code",
   "execution_count": 22,
   "metadata": {},
   "outputs": [],
   "source": [
    "pd.set_option('display.max_columns', 100)\n",
    "pd.set_option('display.max_rows',100)\n",
    "pd.set_option(\"display.max_seq_item\",150)\n",
    "pd.set_option(\"display.width\",None)"
   ]
  },
  {
   "cell_type": "code",
   "execution_count": 23,
   "metadata": {},
   "outputs": [],
   "source": [
    "#和暦 to 西暦\n",
    "from preprocessing import wareki_to_seireki"
   ]
  },
  {
   "cell_type": "code",
   "execution_count": 24,
   "metadata": {
    "scrolled": true
   },
   "outputs": [
    {
     "data": {
      "text/plain": [
       "<module 'util' from '../src\\\\util.py'>"
      ]
     },
     "execution_count": 24,
     "metadata": {},
     "output_type": "execute_result"
    }
   ],
   "source": [
    "import importlib,util\n",
    "importlib.reload(util)"
   ]
  },
  {
   "cell_type": "markdown",
   "metadata": {},
   "source": [
    "### train,testのカラム\n",
    "\n",
    "- 用途：細分化してget_dummies"
   ]
  },
  {
   "cell_type": "code",
   "execution_count": 25,
   "metadata": {},
   "outputs": [
    {
     "name": "stdout",
     "output_type": "stream",
     "text": [
      "(356344, 28) (34844, 27)\n",
      "(391188, 29)\n"
     ]
    }
   ],
   "source": [
    "#データ読み込み\n",
    "train = pd.read_csv('../raw_data/train_data.csv')\n",
    "test = pd.read_csv('../raw_data/test_data.csv')\n",
    "\n",
    "print(train.shape,test.shape)\n",
    "\n",
    "#結合\n",
    "train['adversarial'] = 0\n",
    "test['adversarial'] = 1\n",
    "full = pd.concat([train,test])\n",
    "full = full.reset_index(drop=True)\n",
    "\n",
    "print(full.shape)"
   ]
  },
  {
   "cell_type": "markdown",
   "metadata": {},
   "source": [
    "### trainのカラム\n",
    "\n",
    "- 種類：['中古マンション等', '宅地(土地と建物)', '宅地(土地)', '林地', '農地']⇒ラベルエンコード\n",
    "- 地域：['商業地', '住宅地', '工業地', '宅地見込地']⇒ラベルエンコード\n",
    "- 市区町村コード：地区名と被ってない\n",
    "- 都道府県名：東京しかないので削除\n",
    "- 市区町村名：市区町村名と完全に一致、削除\n",
    "- 地区名：市区町村コードとかぶってない\n",
    "- 最寄駅：名称\n",
    "- 最寄駅：距離（分）：〇〇分～〇〇分を数値に変換してfloat\n",
    "- 間取り：numとLやDが含まれているかをone hot vector化\n",
    "- 面積：2000以上などを数値に変換してfloat\n",
    "- 土地の形状：順序変数に変換したものを作った\n",
    "- 間口：float\n",
    "- 延べ床面積：2000以上などを数値に変換してfloat\n",
    "- 建築年：西暦に変換\n",
    "- 建物の構造：⇒'、'でsplitしてダミー変数化した\n",
    "- 用途：splitしてダミー変数化した\n",
    "- 今後の利用目的：['住宅' 'その他' '事務所' nan '店舗' '倉庫' '工場']⇒ラベルエンコード\n",
    "- 前面道路（方位）：ラベルエンコード\n",
    "- 前面道路（種類）：ラベルエンコード\n",
    "- 前面道路（幅員）：数値変換なしにfloatで\n",
    "- 都市計画：ラベルエンコード\n",
    "- 建ぺい率：数値変換なしにfloatで\n",
    "- 容積率：同上\n",
    "- 取引時点：何年か、四半期のいつかのカラムを作成\n",
    "- 改装：改装したか否か⇒ラベルエンコード\n",
    "- 取引の事情など：splitしてダミー変数化した"
   ]
  },
  {
   "cell_type": "code",
   "execution_count": 26,
   "metadata": {},
   "outputs": [],
   "source": [
    "#いらないのを削除\n",
    "full = full.drop([\"都道府県名\",'市区町村名'],axis=1)"
   ]
  },
  {
   "cell_type": "code",
   "execution_count": 27,
   "metadata": {},
   "outputs": [],
   "source": [
    "#最寄駅：距離をFE\n",
    "full['最寄駅：距離（分）'] = full[\"最寄駅：距離（分）\"].replace({'30分?60分':'45',\n",
    "                                               '1H?1H30':'75','1H30?2H':\"105\",'2H?':\"150\"}).astype(float)"
   ]
  },
  {
   "cell_type": "code",
   "execution_count": 28,
   "metadata": {},
   "outputs": [],
   "source": [
    "#間取りFE\n",
    "madori_dict = ['Ｌ','Ｄ','Ｋ','＋Ｓ','Ｒ','メゾネット','オープンフロア','スタジオ','＋Ｋ','missing']\n",
    "for madori in madori_dict:\n",
    "    full['間取り_'+madori] = full['間取り'].fillna('missing').str.contains(madori).astype(\"int64\")\n",
    "    \n",
    "full['間取り_num'] = full['間取り'].replace({\"オープンフロア\":np.NaN,\"スタジオ\":np.NaN,\"メゾネット\":np.NaN}).replace({'(.*)Ｌ(.*)':r'\\1','(.*)Ｋ(.*)':r'\\1','(.*)Ｄ(.*)':r'\\1','(.*)Ｒ(.*)':r'\\1'},regex=True)\n",
    "full['間取り_num'] = full['間取り_num'].astype(float)"
   ]
  },
  {
   "cell_type": "code",
   "execution_count": 29,
   "metadata": {},
   "outputs": [],
   "source": [
    "#面積をFE\n",
    "for sq in ['2000㎡以上']:\n",
    "    full['面積（㎡）_'+sq] = 0\n",
    "    full.loc[full['面積（㎡）'].str.contains(sq),'面積（㎡）_'+sq] = 1\n",
    "\n",
    "full[\"面積（㎡）\"] = full[\"面積（㎡）\"].replace({'2000㎡以上':np.nan,'5000㎡以上':5000}).astype(float)"
   ]
  },
  {
   "cell_type": "code",
   "execution_count": 30,
   "metadata": {},
   "outputs": [],
   "source": [
    "#土地の形状FE\n",
    "keijou = [\"正方形\",\"長方形\",\"ほぼ正方形\",\"ほぼ長方形\",\"ほぼ整形\",\"台形\",\"ほぼ台形\",\"不整形\",\"袋地等\",np.nan]\n",
    "ind = list(range(len(keijou)))\n",
    "dic = dict(zip(keijou,ind))\n",
    "full[\"土地の形状_rank\"] = full[\"土地の形状\"].replace(dic)\n",
    "full['土地の形状_rank'] = full['土地の形状_rank'].astype(float)"
   ]
  },
  {
   "cell_type": "code",
   "execution_count": 31,
   "metadata": {},
   "outputs": [],
   "source": [
    "#間口FE\n",
    "full['間口'] = full['間口'].replace({'50.0m以上':50.0}).astype(float)"
   ]
  },
  {
   "cell_type": "code",
   "execution_count": 32,
   "metadata": {},
   "outputs": [],
   "source": [
    "#延床面積をFE\n",
    "full[\"延床面積（㎡）\"] = full[\"延床面積（㎡）\"].replace({'2000㎡以上':2000,'10m^2未満':10}).astype(float)"
   ]
  },
  {
   "cell_type": "code",
   "execution_count": 33,
   "metadata": {
    "scrolled": true
   },
   "outputs": [
    {
     "data": {
      "application/vnd.jupyter.widget-view+json": {
       "model_id": "a9fd1a94b62343819938572bb7a9ee5c",
       "version_major": 2,
       "version_minor": 0
      },
      "text/plain": [
       "HBox(children=(FloatProgress(value=0.0, max=391188.0), HTML(value='')))"
      ]
     },
     "metadata": {},
     "output_type": "display_data"
    },
    {
     "name": "stdout",
     "output_type": "stream",
     "text": [
      "\n"
     ]
    }
   ],
   "source": [
    "#建築年を西暦に\n",
    "full['建築年'] = full[\"建築年\"].replace({\"戦前\":'昭和20年'})\n",
    "full['建築年_西暦'] = wareki_to_seireki(full['建築年'])"
   ]
  },
  {
   "cell_type": "code",
   "execution_count": 34,
   "metadata": {},
   "outputs": [],
   "source": [
    "#建物の構造\n",
    "full['建物の構造'] = full['建物の構造'].fillna('missing')\n",
    "stract_dict = []\n",
    "for i in train['建物の構造'].fillna('missing').unique():\n",
    "    stract_dict.extend(i.split('、'))\n",
    "stract_dict = list(set(stract_dict))\n",
    "\n",
    "for stract in stract_dict:\n",
    "    full['建物の構造_'+stract] = full['建物の構造'].str.contains(stract).astype(\"int64\")"
   ]
  },
  {
   "cell_type": "code",
   "execution_count": 35,
   "metadata": {},
   "outputs": [],
   "source": [
    "#取引時点をFE\n",
    "full[\"取引時点\"] = full[\"取引時点\"].replace({\"(.*)年第(.*)\":r'\\1 \\2',\"(.*)四半期\":r'\\1'},regex=True)\n",
    "full = pd.concat([full,full[\"取引時点\"].str.split(expand=True).rename(columns={0:\"取引時点_年\",1:\"取引時点_四半期\"})],axis=1)\n",
    "full[\"取引時点_四半期\"] = full[\"取引時点_四半期\"].astype(float)\n",
    "full[\"取引時点_年\"] = full[\"取引時点_年\"].astype(float)"
   ]
  },
  {
   "cell_type": "code",
   "execution_count": 36,
   "metadata": {},
   "outputs": [],
   "source": [
    "#取引の事情などFE\n",
    "full['取引の事情等'] = full['取引の事情等'].fillna('missing')\n",
    "jijou_dict = []\n",
    "for i in train['取引の事情等'].fillna('missing').unique():\n",
    "    jijou_dict.extend(i.split('、'))\n",
    "jijou_dict = list(set(jijou_dict))\n",
    "for jijou in jijou_dict:\n",
    "    full['取引の事情等_'+jijou] = full['取引の事情等'].str.contains(jijou).astype(\"int64\")\n",
    "\n",
    "#テストに存在しない分類\n",
    "del full['取引の事情等_古屋付き・取壊し前提']"
   ]
  },
  {
   "cell_type": "code",
   "execution_count": 37,
   "metadata": {},
   "outputs": [],
   "source": [
    "#用途FE\n",
    "full['用途'] = full['用途'].fillna('missing')\n",
    "youto_dict = []\n",
    "for i in train['用途'].fillna('missing').unique():\n",
    "    youto_dict.extend(i.split('、'))\n",
    "youto_dict = list(set(youto_dict))\n",
    "for youto in youto_dict:\n",
    "    full['用途_'+youto] = full['用途'].str.contains(youto).astype(\"int64\")"
   ]
  },
  {
   "cell_type": "code",
   "execution_count": 38,
   "metadata": {},
   "outputs": [],
   "source": [
    "full['経過年月'] = full['取引時点_年'] - full['建築年_西暦']"
   ]
  },
  {
   "cell_type": "code",
   "execution_count": 39,
   "metadata": {},
   "outputs": [],
   "source": [
    "with open('../features/base.pkl', 'wb') as f:\n",
    "    pickle.dump(full , f)"
   ]
  }
 ],
 "metadata": {
  "kernelspec": {
   "display_name": "Python 3",
   "language": "python",
   "name": "python3"
  },
  "language_info": {
   "codemirror_mode": {
    "name": "ipython",
    "version": 3
   },
   "file_extension": ".py",
   "mimetype": "text/x-python",
   "name": "python",
   "nbconvert_exporter": "python",
   "pygments_lexer": "ipython3",
   "version": "3.7.6"
  }
 },
 "nbformat": 4,
 "nbformat_minor": 4
}
