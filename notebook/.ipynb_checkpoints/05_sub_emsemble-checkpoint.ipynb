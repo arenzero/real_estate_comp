{
 "cells": [
  {
   "cell_type": "code",
   "execution_count": 1,
   "metadata": {},
   "outputs": [],
   "source": [
    "import pandas as pd\n",
    "import os\n",
    "import numpy as np"
   ]
  },
  {
   "cell_type": "code",
   "execution_count": 2,
   "metadata": {},
   "outputs": [],
   "source": [
    "sub_name = os.listdir('../submissions/')"
   ]
  },
  {
   "cell_type": "code",
   "execution_count": 10,
   "metadata": {},
   "outputs": [
    {
     "data": {
      "text/plain": [
       "['0.26363_0.2697_simple.csv',\n",
       " 'sub_0.26972.csv',\n",
       " 'sub_0.26989.csv',\n",
       " 'sub_0.27382.csv',\n",
       " 'sub_cat_0.27277.csv',\n",
       " 'sub_xgb0.27328.csv']"
      ]
     },
     "execution_count": 10,
     "metadata": {},
     "output_type": "execute_result"
    }
   ],
   "source": [
    "sub_name"
   ]
  },
  {
   "cell_type": "code",
   "execution_count": 4,
   "metadata": {},
   "outputs": [],
   "source": [
    "sub_name = ['0.26363_0.2697_simple.csv',\n",
    "             'sub_0.26972.csv',\n",
    "             'sub_0.26989.csv',\n",
    "            'sub_0.27382.csv',\n",
    "            'sub_cat_0.27277.csv',\n",
    "            'sub_xgb0.27328.csv']"
   ]
  },
  {
   "cell_type": "code",
   "execution_count": 5,
   "metadata": {},
   "outputs": [],
   "source": [
    "subs = []\n",
    "\n",
    "for csv in sub_name:\n",
    "    subs.append(pd.read_csv('../submissions/'+csv))"
   ]
  },
  {
   "cell_type": "code",
   "execution_count": 6,
   "metadata": {},
   "outputs": [],
   "source": [
    "pred = []\n",
    "for sub in subs:\n",
    "    pred.append(sub['y'].values)"
   ]
  },
  {
   "cell_type": "code",
   "execution_count": 7,
   "metadata": {},
   "outputs": [],
   "source": [
    "sub['y'] = np.array(pred).mean(axis=0)"
   ]
  },
  {
   "cell_type": "code",
   "execution_count": 8,
   "metadata": {},
   "outputs": [
    {
     "data": {
      "text/html": [
       "<div>\n",
       "<style scoped>\n",
       "    .dataframe tbody tr th:only-of-type {\n",
       "        vertical-align: middle;\n",
       "    }\n",
       "\n",
       "    .dataframe tbody tr th {\n",
       "        vertical-align: top;\n",
       "    }\n",
       "\n",
       "    .dataframe thead th {\n",
       "        text-align: right;\n",
       "    }\n",
       "</style>\n",
       "<table border=\"1\" class=\"dataframe\">\n",
       "  <thead>\n",
       "    <tr style=\"text-align: right;\">\n",
       "      <th></th>\n",
       "      <th>id</th>\n",
       "      <th>y</th>\n",
       "    </tr>\n",
       "  </thead>\n",
       "  <tbody>\n",
       "    <tr>\n",
       "      <th>0</th>\n",
       "      <td>1</td>\n",
       "      <td>28.929837</td>\n",
       "    </tr>\n",
       "    <tr>\n",
       "      <th>1</th>\n",
       "      <td>2</td>\n",
       "      <td>16.111489</td>\n",
       "    </tr>\n",
       "    <tr>\n",
       "      <th>2</th>\n",
       "      <td>3</td>\n",
       "      <td>228.167210</td>\n",
       "    </tr>\n",
       "    <tr>\n",
       "      <th>3</th>\n",
       "      <td>4</td>\n",
       "      <td>23.390066</td>\n",
       "    </tr>\n",
       "    <tr>\n",
       "      <th>4</th>\n",
       "      <td>5</td>\n",
       "      <td>69.548764</td>\n",
       "    </tr>\n",
       "    <tr>\n",
       "      <th>...</th>\n",
       "      <td>...</td>\n",
       "      <td>...</td>\n",
       "    </tr>\n",
       "    <tr>\n",
       "      <th>34839</th>\n",
       "      <td>34840</td>\n",
       "      <td>7.101020</td>\n",
       "    </tr>\n",
       "    <tr>\n",
       "      <th>34840</th>\n",
       "      <td>34841</td>\n",
       "      <td>2.105491</td>\n",
       "    </tr>\n",
       "    <tr>\n",
       "      <th>34841</th>\n",
       "      <td>34842</td>\n",
       "      <td>3.005867</td>\n",
       "    </tr>\n",
       "    <tr>\n",
       "      <th>34842</th>\n",
       "      <td>34843</td>\n",
       "      <td>9.530173</td>\n",
       "    </tr>\n",
       "    <tr>\n",
       "      <th>34843</th>\n",
       "      <td>34844</td>\n",
       "      <td>7.135548</td>\n",
       "    </tr>\n",
       "  </tbody>\n",
       "</table>\n",
       "<p>34844 rows × 2 columns</p>\n",
       "</div>"
      ],
      "text/plain": [
       "          id           y\n",
       "0          1   28.929837\n",
       "1          2   16.111489\n",
       "2          3  228.167210\n",
       "3          4   23.390066\n",
       "4          5   69.548764\n",
       "...      ...         ...\n",
       "34839  34840    7.101020\n",
       "34840  34841    2.105491\n",
       "34841  34842    3.005867\n",
       "34842  34843    9.530173\n",
       "34843  34844    7.135548\n",
       "\n",
       "[34844 rows x 2 columns]"
      ]
     },
     "execution_count": 8,
     "metadata": {},
     "output_type": "execute_result"
    }
   ],
   "source": [
    "sub"
   ]
  },
  {
   "cell_type": "code",
   "execution_count": 9,
   "metadata": {},
   "outputs": [],
   "source": [
    "sub.to_csv('../submissions/best_sub.csv',index=False)"
   ]
  }
 ],
 "metadata": {
  "kernelspec": {
   "display_name": "Python 3",
   "language": "python",
   "name": "python3"
  },
  "language_info": {
   "codemirror_mode": {
    "name": "ipython",
    "version": 3
   },
   "file_extension": ".py",
   "mimetype": "text/x-python",
   "name": "python",
   "nbconvert_exporter": "python",
   "pygments_lexer": "ipython3",
   "version": "3.7.6"
  }
 },
 "nbformat": 4,
 "nbformat_minor": 4
}
