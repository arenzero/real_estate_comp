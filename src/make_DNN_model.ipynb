{
 "cells": [
  {
   "cell_type": "code",
   "execution_count": 1,
   "metadata": {},
   "outputs": [],
   "source": [
    "import pandas as pd\n",
    "import numpy as np\n",
    "import matplotlib.pyplot as plt\n",
    "import pickle\n",
    "\n",
    "import sys\n",
    "sys.path.append('../src')\n",
    "\n",
    "#plot setting\n",
    "import myplot\n",
    "myplot.setting_myplot()\n",
    "\n",
    "from LGBM import lgb_modelling\n",
    "\n",
    "from util import plot_importance"
   ]
  },
  {
   "cell_type": "code",
   "execution_count": 2,
   "metadata": {},
   "outputs": [],
   "source": [
    "np.set_printoptions(suppress=True)\n",
    "pd.set_option('display.max_columns', 100)\n",
    "pd.set_option('display.max_rows',100)\n",
    "pd.set_option(\"display.max_seq_item\",150)\n",
    "pd.set_option(\"display.width\",None)"
   ]
  },
  {
   "cell_type": "code",
   "execution_count": 3,
   "metadata": {},
   "outputs": [],
   "source": [
    "with open('../models/preprocessed_train', 'rb') as f:\n",
    "    train = pickle.load(f)\n",
    "with open('../models/preprocessed_test', 'rb') as f:\n",
    "    test = pickle.load(f)"
   ]
  },
  {
   "cell_type": "code",
   "execution_count": 6,
   "metadata": {},
   "outputs": [],
   "source": [
    "#NULL_importanceを消す\n",
    "drop_col = ['adversarial','間取り_メゾネット', '間取り_スタジオ', '間取り_＋Ｋ', '建物の構造_ブロック造',\n",
    "       '取引の事情等_古屋付き・取壊し前提']\n",
    "train = train.drop(drop_col,axis=1)\n",
    "test = test.drop(drop_col,axis=1)"
   ]
  },
  {
   "cell_type": "code",
   "execution_count": null,
   "metadata": {},
   "outputs": [],
   "source": []
  }
 ],
 "metadata": {
  "kernelspec": {
   "display_name": "Python 3",
   "language": "python",
   "name": "python3"
  },
  "language_info": {
   "codemirror_mode": {
    "name": "ipython",
    "version": 3
   },
   "file_extension": ".py",
   "mimetype": "text/x-python",
   "name": "python",
   "nbconvert_exporter": "python",
   "pygments_lexer": "ipython3",
   "version": "3.7.6"
  }
 },
 "nbformat": 4,
 "nbformat_minor": 4
}
